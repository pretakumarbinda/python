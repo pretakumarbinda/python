{
 "cells": [
  {
   "cell_type": "code",
   "execution_count": 1,
   "id": "3f783423-b1e7-4218-b55c-cefe47f45356",
   "metadata": {},
   "outputs": [],
   "source": [
    "import numpy as np"
   ]
  },
  {
   "cell_type": "code",
   "execution_count": 2,
   "id": "eadd2845-da12-4153-9887-dbec1b3ca901",
   "metadata": {},
   "outputs": [
    {
     "name": "stdout",
     "output_type": "stream",
     "text": [
      "[1 2 3 4 5]\n"
     ]
    }
   ],
   "source": [
    "arr = np.array([1,2,3,4,5])\n",
    "print(arr)"
   ]
  },
  {
   "cell_type": "code",
   "execution_count": 3,
   "id": "7395fa64-eb44-4b6b-9507-dd1637284a82",
   "metadata": {},
   "outputs": [
    {
     "name": "stdout",
     "output_type": "stream",
     "text": [
      "[[1 2]\n",
      " [3 4]]\n"
     ]
    }
   ],
   "source": [
    "matrix = np.array([[1,2],[3,4]])\n",
    "print(matrix)"
   ]
  },
  {
   "cell_type": "code",
   "execution_count": 4,
   "id": "ec6d0081-105b-4fbe-b2a5-a857e6d634fc",
   "metadata": {},
   "outputs": [
    {
     "data": {
      "text/plain": [
       "2"
      ]
     },
     "execution_count": 4,
     "metadata": {},
     "output_type": "execute_result"
    }
   ],
   "source": [
    "matrix.ndim"
   ]
  },
  {
   "cell_type": "code",
   "execution_count": 5,
   "id": "ed597438-64c7-484a-9d40-66d7353ee9f8",
   "metadata": {},
   "outputs": [
    {
     "data": {
      "text/plain": [
       "(2, 2)"
      ]
     },
     "execution_count": 5,
     "metadata": {},
     "output_type": "execute_result"
    }
   ],
   "source": [
    "matrix.shape"
   ]
  },
  {
   "cell_type": "code",
   "execution_count": 6,
   "id": "b17d4f40-40ef-47a5-9aca-c2f86b7313d1",
   "metadata": {},
   "outputs": [
    {
     "data": {
      "text/plain": [
       "4"
      ]
     },
     "execution_count": 6,
     "metadata": {},
     "output_type": "execute_result"
    }
   ],
   "source": [
    "matrix.size"
   ]
  },
  {
   "cell_type": "code",
   "execution_count": 7,
   "id": "ef8d29a5-2029-4ca9-b9f6-bb9608411248",
   "metadata": {},
   "outputs": [
    {
     "data": {
      "text/plain": [
       "dtype('int32')"
      ]
     },
     "execution_count": 7,
     "metadata": {},
     "output_type": "execute_result"
    }
   ],
   "source": [
    "matrix.dtype"
   ]
  },
  {
   "cell_type": "code",
   "execution_count": 8,
   "id": "6e753656-a5bc-414f-a632-87df0449e25c",
   "metadata": {},
   "outputs": [
    {
     "data": {
      "text/plain": [
       "4"
      ]
     },
     "execution_count": 8,
     "metadata": {},
     "output_type": "execute_result"
    }
   ],
   "source": [
    "matrix.itemsize"
   ]
  },
  {
   "cell_type": "code",
   "execution_count": 9,
   "id": "3e13ac2d-5878-48c3-9c57-9d22787e9700",
   "metadata": {},
   "outputs": [],
   "source": [
    "arrr = np.arange(5)"
   ]
  },
  {
   "cell_type": "code",
   "execution_count": 10,
   "id": "a117c005-57ee-4332-90fe-4cc14975ca56",
   "metadata": {},
   "outputs": [
    {
     "name": "stdout",
     "output_type": "stream",
     "text": [
      "[0 1 2 3 4]\n"
     ]
    }
   ],
   "source": [
    "print(arrr)"
   ]
  },
  {
   "cell_type": "markdown",
   "id": "951c6540-1878-4caa-979d-c55f7c6a3b33",
   "metadata": {},
   "source": [
    "/*arrays with ones and zeros*/"
   ]
  },
  {
   "cell_type": "code",
   "execution_count": 11,
   "id": "e9ae6cff-57f8-4221-83bb-f89be4c352ba",
   "metadata": {},
   "outputs": [
    {
     "name": "stdout",
     "output_type": "stream",
     "text": [
      "[0. 0. 0. 0. 0.]\n",
      "[1. 1. 1. 1. 1.]\n"
     ]
    }
   ],
   "source": [
    "print(np.zeros(5))\n",
    "print(np.ones(5))"
   ]
  },
  {
   "cell_type": "markdown",
   "id": "e2db3e3f-08e3-4f29-a2cf-1ae4e9cded3e",
   "metadata": {},
   "source": [
    "**creating arrays with random numbers**"
   ]
  },
  {
   "cell_type": "code",
   "execution_count": 12,
   "id": "c5b3af08-299b-43e1-b36f-ffab4f4105cf",
   "metadata": {},
   "outputs": [
    {
     "data": {
      "text/plain": [
       "array([0.53373165, 0.80946142, 0.13665018, 0.19492852, 0.62411648])"
      ]
     },
     "execution_count": 12,
     "metadata": {},
     "output_type": "execute_result"
    }
   ],
   "source": [
    "np.random.rand(5)           #creates sample of random numbers between 0 and 1"
   ]
  },
  {
   "cell_type": "code",
   "execution_count": 13,
   "id": "d5dcc947-b5c5-47f3-85d2-585c2f8b9494",
   "metadata": {},
   "outputs": [
    {
     "data": {
      "text/plain": [
       "array([-0.28593127, -2.27861446,  0.1708166 , -0.68349919, -0.43454645])"
      ]
     },
     "execution_count": 13,
     "metadata": {},
     "output_type": "execute_result"
    }
   ],
   "source": [
    "np.random.randn(5)"
   ]
  },
  {
   "cell_type": "code",
   "execution_count": 15,
   "id": "6613a427-1eb5-45d9-ba3a-cf8da7213f91",
   "metadata": {},
   "outputs": [
    {
     "data": {
      "text/plain": [
       "array([2, 2, 2])"
      ]
     },
     "execution_count": 15,
     "metadata": {},
     "output_type": "execute_result"
    }
   ],
   "source": [
    "np.random.randint(2,3,3)"
   ]
  },
  {
   "cell_type": "markdown",
   "id": "79d2f336-562f-47f8-8eb5-039906f08f3d",
   "metadata": {},
   "source": [
    "#array is like list"
   ]
  },
  {
   "cell_type": "code",
   "execution_count": 16,
   "id": "cab4a8d9-dbcc-42b5-9df3-ed50aaa3f789",
   "metadata": {},
   "outputs": [],
   "source": [
    "import numpy as np\n",
    "arr = np.array([1,2,3,4])"
   ]
  },
  {
   "cell_type": "code",
   "execution_count": 17,
   "id": "87c40956-e8f8-4b99-b1cc-4b12cc33dd28",
   "metadata": {},
   "outputs": [
    {
     "name": "stdout",
     "output_type": "stream",
     "text": [
      "1\n"
     ]
    }
   ],
   "source": [
    "print(arr[0])"
   ]
  },
  {
   "cell_type": "code",
   "execution_count": 18,
   "id": "c91e6700-032d-4ddc-85ad-7b3d02a71ceb",
   "metadata": {},
   "outputs": [
    {
     "name": "stdout",
     "output_type": "stream",
     "text": [
      "[1 2 3 4]\n"
     ]
    }
   ],
   "source": [
    "print(arr[:])"
   ]
  },
  {
   "cell_type": "code",
   "execution_count": 19,
   "id": "752e8d89-6142-44a1-88bd-3ef71179ef1f",
   "metadata": {},
   "outputs": [
    {
     "name": "stdout",
     "output_type": "stream",
     "text": [
      "[2 3]\n"
     ]
    }
   ],
   "source": [
    "print(arr[1:3])"
   ]
  },
  {
   "cell_type": "code",
   "execution_count": 20,
   "id": "480cebf5-786f-4657-95a6-096b2c0508cc",
   "metadata": {},
   "outputs": [
    {
     "name": "stdout",
     "output_type": "stream",
     "text": [
      "[1 2 3]\n"
     ]
    }
   ],
   "source": [
    "print(arr[:3])"
   ]
  },
  {
   "cell_type": "code",
   "execution_count": 21,
   "id": "a8f42629-cfab-4eee-9869-0da6a30e25d1",
   "metadata": {},
   "outputs": [
    {
     "name": "stdout",
     "output_type": "stream",
     "text": [
      "[2 3 4]\n"
     ]
    }
   ],
   "source": [
    "print(arr[1:])"
   ]
  },
  {
   "cell_type": "code",
   "execution_count": 22,
   "id": "ae55ff76-f00e-4d67-b91a-f376036c76fc",
   "metadata": {},
   "outputs": [
    {
     "name": "stdout",
     "output_type": "stream",
     "text": [
      "[[1 2 3 4]\n",
      " [5 6 7 8]]\n"
     ]
    }
   ],
   "source": [
    "#for multidymentional array:\n",
    "arr = np.array([[1,2,3,4],[5,6,7,8]])\n",
    "print(arr)"
   ]
  },
  {
   "cell_type": "code",
   "execution_count": 23,
   "id": "3f1412c0-8be8-4354-a086-9106e5ac62e1",
   "metadata": {},
   "outputs": [
    {
     "name": "stdout",
     "output_type": "stream",
     "text": [
      "8\n"
     ]
    }
   ],
   "source": [
    "print(arr[1,3])"
   ]
  },
  {
   "cell_type": "code",
   "execution_count": 24,
   "id": "93204280-2681-48a4-ac17-7a40737e5753",
   "metadata": {},
   "outputs": [
    {
     "name": "stdout",
     "output_type": "stream",
     "text": [
      "[1 2 3 4]\n"
     ]
    }
   ],
   "source": [
    "print(arr[0])"
   ]
  },
  {
   "cell_type": "code",
   "execution_count": 25,
   "id": "1f6af324-792e-4685-b340-e70c6aed7758",
   "metadata": {},
   "outputs": [
    {
     "name": "stdout",
     "output_type": "stream",
     "text": [
      "[[1 2 3 4]\n",
      " [5 6 7 8]]\n"
     ]
    }
   ],
   "source": [
    "print(arr[0:])"
   ]
  },
  {
   "cell_type": "code",
   "execution_count": 26,
   "id": "52bbde8f-0899-426b-aaa8-5e4b6192db7c",
   "metadata": {},
   "outputs": [],
   "source": [
    "#arithmatics on arrays"
   ]
  },
  {
   "cell_type": "code",
   "execution_count": null,
   "id": "71d6ee15-9a4d-4518-b8d3-3257fd9d6515",
   "metadata": {},
   "outputs": [],
   "source": []
  }
 ],
 "metadata": {
  "kernelspec": {
   "display_name": "Python 3 (ipykernel)",
   "language": "python",
   "name": "python3"
  },
  "language_info": {
   "codemirror_mode": {
    "name": "ipython",
    "version": 3
   },
   "file_extension": ".py",
   "mimetype": "text/x-python",
   "name": "python",
   "nbconvert_exporter": "python",
   "pygments_lexer": "ipython3",
   "version": "3.12.1"
  }
 },
 "nbformat": 4,
 "nbformat_minor": 5
}
