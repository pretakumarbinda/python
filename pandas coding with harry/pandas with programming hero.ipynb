{
 "cells": [
  {
   "cell_type": "code",
   "execution_count": 3,
   "id": "3cdc2fe9-56f7-4821-a4ec-39f22188c77f",
   "metadata": {},
   "outputs": [],
   "source": [
    "import pandas as pd\n",
    "import numpy as np"
   ]
  },
  {
   "cell_type": "code",
   "execution_count": 4,
   "id": "e1fefa48-383e-458e-be4f-51075cbb3cee",
   "metadata": {},
   "outputs": [
    {
     "name": "stdout",
     "output_type": "stream",
     "text": [
      "Series([], dtype: object)\n"
     ]
    }
   ],
   "source": [
    "series = pd.Series()\n",
    "print(series)"
   ]
  },
  {
   "cell_type": "code",
   "execution_count": 6,
   "id": "8e070882-4fe0-40fa-b219-f33d56387daa",
   "metadata": {},
   "outputs": [
    {
     "name": "stdout",
     "output_type": "stream",
     "text": [
      "0    H\n",
      "1    E\n",
      "2    R\n",
      "3    O\n",
      "dtype: object\n",
      "H\n",
      "3    O\n",
      "dtype: object\n"
     ]
    }
   ],
   "source": [
    "data = np.array(['H', 'E', 'R', 'O'])\n",
    "series = pd.Series(data)\n",
    "print(series)\n",
    "print(series[0])\n",
    "print(series[3:])"
   ]
  },
  {
   "cell_type": "code",
   "execution_count": null,
   "id": "603a38b4-b5c8-43ec-afac-28b065142dda",
   "metadata": {},
   "outputs": [],
   "source": []
  }
 ],
 "metadata": {
  "kernelspec": {
   "display_name": "Python 3 (ipykernel)",
   "language": "python",
   "name": "python3"
  },
  "language_info": {
   "codemirror_mode": {
    "name": "ipython",
    "version": 3
   },
   "file_extension": ".py",
   "mimetype": "text/x-python",
   "name": "python",
   "nbconvert_exporter": "python",
   "pygments_lexer": "ipython3",
   "version": "3.12.1"
  }
 },
 "nbformat": 4,
 "nbformat_minor": 5
}
